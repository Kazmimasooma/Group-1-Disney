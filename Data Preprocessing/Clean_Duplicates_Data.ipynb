{
 "cells": [
  {
   "cell_type": "code",
   "execution_count": 2,
   "id": "86e89b6f",
   "metadata": {},
   "outputs": [],
   "source": [
    "import pandas as pd\n",
    "import numpy as np\n",
    "import re"
   ]
  },
  {
   "cell_type": "code",
   "execution_count": 3,
   "id": "7ebf49f8",
   "metadata": {},
   "outputs": [
    {
     "data": {
      "text/html": [
       "<div>\n",
       "<style scoped>\n",
       "    .dataframe tbody tr th:only-of-type {\n",
       "        vertical-align: middle;\n",
       "    }\n",
       "\n",
       "    .dataframe tbody tr th {\n",
       "        vertical-align: top;\n",
       "    }\n",
       "\n",
       "    .dataframe thead th {\n",
       "        text-align: right;\n",
       "    }\n",
       "</style>\n",
       "<table border=\"1\" class=\"dataframe\">\n",
       "  <thead>\n",
       "    <tr style=\"text-align: right;\">\n",
       "      <th></th>\n",
       "      <th>movieId</th>\n",
       "      <th>title</th>\n",
       "      <th>genres</th>\n",
       "    </tr>\n",
       "  </thead>\n",
       "  <tbody>\n",
       "    <tr>\n",
       "      <th>0</th>\n",
       "      <td>594</td>\n",
       "      <td>Snow White and the Seven Dwarfs</td>\n",
       "      <td>Animation|Children|Drama|Fantasy|Musical</td>\n",
       "    </tr>\n",
       "    <tr>\n",
       "      <th>1</th>\n",
       "      <td>596</td>\n",
       "      <td>Pinocchio</td>\n",
       "      <td>Animation|Children|Fantasy|Musical</td>\n",
       "    </tr>\n",
       "    <tr>\n",
       "      <th>2</th>\n",
       "      <td>5990</td>\n",
       "      <td>Pinocchio</td>\n",
       "      <td>Children|Comedy|Fantasy</td>\n",
       "    </tr>\n",
       "    <tr>\n",
       "      <th>3</th>\n",
       "      <td>90264</td>\n",
       "      <td>Pinocchio</td>\n",
       "      <td>Children|Fantasy|Musical</td>\n",
       "    </tr>\n",
       "    <tr>\n",
       "      <th>4</th>\n",
       "      <td>126693</td>\n",
       "      <td>Pinocchio</td>\n",
       "      <td>Animation|Children</td>\n",
       "    </tr>\n",
       "  </tbody>\n",
       "</table>\n",
       "</div>"
      ],
      "text/plain": [
       "   movieId                            title  \\\n",
       "0      594  Snow White and the Seven Dwarfs   \n",
       "1      596                        Pinocchio   \n",
       "2     5990                        Pinocchio   \n",
       "3    90264                        Pinocchio   \n",
       "4   126693                        Pinocchio   \n",
       "\n",
       "                                     genres  \n",
       "0  Animation|Children|Drama|Fantasy|Musical  \n",
       "1        Animation|Children|Fantasy|Musical  \n",
       "2                   Children|Comedy|Fantasy  \n",
       "3                  Children|Fantasy|Musical  \n",
       "4                        Animation|Children  "
      ]
     },
     "execution_count": 3,
     "metadata": {},
     "output_type": "execute_result"
    }
   ],
   "source": [
    "movies_df = pd.read_csv('output/disney_movies.csv')\n",
    "movies_df.head()"
   ]
  },
  {
   "cell_type": "markdown",
   "id": "2ecd4ca2",
   "metadata": {},
   "source": [
    "You can see above that Pinocchio appears 4 times with different movieId. What I would like to do is merge the df above without losing the movieId and genres. What this means is, you must find the duplicates, keep the movieId in a replacement_df (old_movieId, new_movieId). Then you search by length <len()> of genres, and keep the movieId for the one with longest \"genres\"."
   ]
  },
  {
   "cell_type": "markdown",
   "id": "18184993",
   "metadata": {},
   "source": [
    "So for movies_df above, assuming there are 4 \"Pinocchio\", then you want to keep movieId = 596 because the length is the longest for genres."
   ]
  },
  {
   "cell_type": "markdown",
   "id": "a8049c17",
   "metadata": {},
   "source": [
    "That also means, your replacement_df will be like this: old_movieId, new_movieId:- [5990,596] ; [90264,596] ; [126693,596]. This replacement_df is important because you need to replace for the ratings_df below too. "
   ]
  },
  {
   "cell_type": "code",
   "execution_count": 4,
   "id": "896827e2",
   "metadata": {},
   "outputs": [
    {
     "data": {
      "text/html": [
       "<div>\n",
       "<style scoped>\n",
       "    .dataframe tbody tr th:only-of-type {\n",
       "        vertical-align: middle;\n",
       "    }\n",
       "\n",
       "    .dataframe tbody tr th {\n",
       "        vertical-align: top;\n",
       "    }\n",
       "\n",
       "    .dataframe thead th {\n",
       "        text-align: right;\n",
       "    }\n",
       "</style>\n",
       "<table border=\"1\" class=\"dataframe\">\n",
       "  <thead>\n",
       "    <tr style=\"text-align: right;\">\n",
       "      <th></th>\n",
       "      <th>userId</th>\n",
       "      <th>movieId</th>\n",
       "      <th>rating</th>\n",
       "      <th>timestamp</th>\n",
       "    </tr>\n",
       "  </thead>\n",
       "  <tbody>\n",
       "    <tr>\n",
       "      <th>0</th>\n",
       "      <td>1</td>\n",
       "      <td>6377</td>\n",
       "      <td>4.0</td>\n",
       "      <td>1147868469</td>\n",
       "    </tr>\n",
       "    <tr>\n",
       "      <th>1</th>\n",
       "      <td>3</td>\n",
       "      <td>6377</td>\n",
       "      <td>4.0</td>\n",
       "      <td>1439472644</td>\n",
       "    </tr>\n",
       "    <tr>\n",
       "      <th>2</th>\n",
       "      <td>4</td>\n",
       "      <td>6377</td>\n",
       "      <td>3.0</td>\n",
       "      <td>1573939584</td>\n",
       "    </tr>\n",
       "    <tr>\n",
       "      <th>3</th>\n",
       "      <td>12</td>\n",
       "      <td>6377</td>\n",
       "      <td>4.0</td>\n",
       "      <td>1167582434</td>\n",
       "    </tr>\n",
       "    <tr>\n",
       "      <th>4</th>\n",
       "      <td>13</td>\n",
       "      <td>6377</td>\n",
       "      <td>4.0</td>\n",
       "      <td>1238029123</td>\n",
       "    </tr>\n",
       "  </tbody>\n",
       "</table>\n",
       "</div>"
      ],
      "text/plain": [
       "   userId  movieId  rating   timestamp\n",
       "0       1     6377     4.0  1147868469\n",
       "1       3     6377     4.0  1439472644\n",
       "2       4     6377     3.0  1573939584\n",
       "3      12     6377     4.0  1167582434\n",
       "4      13     6377     4.0  1238029123"
      ]
     },
     "execution_count": 4,
     "metadata": {},
     "output_type": "execute_result"
    }
   ],
   "source": [
    "ratings_df = pd.read_csv('output/disney_ratings.csv')\n",
    "ratings_df.head()"
   ]
  },
  {
   "cell_type": "code",
   "execution_count": null,
   "id": "6198097f",
   "metadata": {},
   "outputs": [],
   "source": []
  },
  {
   "cell_type": "code",
   "execution_count": null,
   "id": "f1feb3a1",
   "metadata": {},
   "outputs": [],
   "source": []
  },
  {
   "cell_type": "code",
   "execution_count": null,
   "id": "05ffaa71",
   "metadata": {},
   "outputs": [],
   "source": []
  },
  {
   "cell_type": "code",
   "execution_count": null,
   "id": "23ab44ad",
   "metadata": {},
   "outputs": [],
   "source": []
  },
  {
   "cell_type": "code",
   "execution_count": null,
   "id": "f15dfacf",
   "metadata": {},
   "outputs": [],
   "source": []
  },
  {
   "cell_type": "code",
   "execution_count": null,
   "id": "07ea557c",
   "metadata": {},
   "outputs": [],
   "source": []
  }
 ],
 "metadata": {
  "kernelspec": {
   "display_name": "mlenv",
   "language": "python",
   "name": "mlenv"
  },
  "language_info": {
   "codemirror_mode": {
    "name": "ipython",
    "version": 3
   },
   "file_extension": ".py",
   "mimetype": "text/x-python",
   "name": "python",
   "nbconvert_exporter": "python",
   "pygments_lexer": "ipython3",
   "version": "3.7.7"
  }
 },
 "nbformat": 4,
 "nbformat_minor": 5
}
