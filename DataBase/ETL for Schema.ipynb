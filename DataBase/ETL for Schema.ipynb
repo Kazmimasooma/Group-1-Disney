{
 "cells": [
  {
   "cell_type": "code",
   "execution_count": 1,
   "id": "a049197a",
   "metadata": {},
   "outputs": [],
   "source": [
    "import pandas as pd\n",
    "import numpy as np\n",
    "import re"
   ]
  },
  {
   "cell_type": "code",
   "execution_count": 2,
   "id": "85ccc2cb",
   "metadata": {},
   "outputs": [],
   "source": [
    "#load IMDB movies dataset\n",
    "imdb_df = pd.read_csv('../Resources/IMDB_movies.csv')"
   ]
  },
  {
   "cell_type": "code",
   "execution_count": 3,
   "id": "203f70e7",
   "metadata": {},
   "outputs": [
    {
     "data": {
      "text/html": [
       "<div>\n",
       "<style scoped>\n",
       "    .dataframe tbody tr th:only-of-type {\n",
       "        vertical-align: middle;\n",
       "    }\n",
       "\n",
       "    .dataframe tbody tr th {\n",
       "        vertical-align: top;\n",
       "    }\n",
       "\n",
       "    .dataframe thead th {\n",
       "        text-align: right;\n",
       "    }\n",
       "</style>\n",
       "<table border=\"1\" class=\"dataframe\">\n",
       "  <thead>\n",
       "    <tr style=\"text-align: right;\">\n",
       "      <th></th>\n",
       "      <th>Title</th>\n",
       "      <th>Year</th>\n",
       "      <th>Rated</th>\n",
       "      <th>Released</th>\n",
       "      <th>Runtime</th>\n",
       "      <th>Genre</th>\n",
       "      <th>Director</th>\n",
       "      <th>Writer</th>\n",
       "      <th>Actors</th>\n",
       "      <th>Language</th>\n",
       "      <th>Country</th>\n",
       "      <th>Awards</th>\n",
       "      <th>Metascore</th>\n",
       "      <th>IMDBRating</th>\n",
       "      <th>imdbVotes</th>\n",
       "      <th>imdbID</th>\n",
       "    </tr>\n",
       "  </thead>\n",
       "  <tbody>\n",
       "    <tr>\n",
       "      <th>0</th>\n",
       "      <td>101 Dalmatians</td>\n",
       "      <td>1996</td>\n",
       "      <td>G</td>\n",
       "      <td>27 Nov 1996</td>\n",
       "      <td>103</td>\n",
       "      <td>Adventure, Comedy, Crime</td>\n",
       "      <td>Stephen Herek</td>\n",
       "      <td>Dodie Smith, John Hughes</td>\n",
       "      <td>Glenn Close, Jeff Daniels, Joely Richardson</td>\n",
       "      <td>English, Spanish</td>\n",
       "      <td>United States, United Kingdom</td>\n",
       "      <td>Nominated for 1 BAFTA Film Award3 wins &amp; 10 no...</td>\n",
       "      <td>49.0</td>\n",
       "      <td>5.7</td>\n",
       "      <td>109,762</td>\n",
       "      <td>tt0115433</td>\n",
       "    </tr>\n",
       "  </tbody>\n",
       "</table>\n",
       "</div>"
      ],
      "text/plain": [
       "            Title  Year Rated     Released  Runtime                     Genre  \\\n",
       "0  101 Dalmatians  1996     G  27 Nov 1996      103  Adventure, Comedy, Crime   \n",
       "\n",
       "        Director                    Writer  \\\n",
       "0  Stephen Herek  Dodie Smith, John Hughes   \n",
       "\n",
       "                                        Actors          Language  \\\n",
       "0  Glenn Close, Jeff Daniels, Joely Richardson  English, Spanish   \n",
       "\n",
       "                         Country  \\\n",
       "0  United States, United Kingdom   \n",
       "\n",
       "                                              Awards  Metascore  IMDBRating  \\\n",
       "0  Nominated for 1 BAFTA Film Award3 wins & 10 no...       49.0         5.7   \n",
       "\n",
       "  imdbVotes     imdbID  \n",
       "0   109,762  tt0115433  "
      ]
     },
     "execution_count": 3,
     "metadata": {},
     "output_type": "execute_result"
    }
   ],
   "source": [
    "imdb_df.head(1)"
   ]
  },
  {
   "cell_type": "code",
   "execution_count": 4,
   "id": "1eb6b535",
   "metadata": {},
   "outputs": [],
   "source": [
    "# change column names with lower case\n",
    "imdb_df.columns= ['title', 'year' , 'rated' , 'released' , 'runtime' , 'genre', 'director' , 'writer' , 'actors', 'language' , 'country' , 'awards' , 'meta_score' , 'imdb_rating' , 'imdb_votes', 'imdb_id']"
   ]
  },
  {
   "cell_type": "code",
   "execution_count": 10,
   "id": "aaf09742",
   "metadata": {},
   "outputs": [
    {
     "data": {
      "text/html": [
       "<div>\n",
       "<style scoped>\n",
       "    .dataframe tbody tr th:only-of-type {\n",
       "        vertical-align: middle;\n",
       "    }\n",
       "\n",
       "    .dataframe tbody tr th {\n",
       "        vertical-align: top;\n",
       "    }\n",
       "\n",
       "    .dataframe thead th {\n",
       "        text-align: right;\n",
       "    }\n",
       "</style>\n",
       "<table border=\"1\" class=\"dataframe\">\n",
       "  <thead>\n",
       "    <tr style=\"text-align: right;\">\n",
       "      <th></th>\n",
       "      <th>title</th>\n",
       "      <th>year</th>\n",
       "      <th>rated</th>\n",
       "      <th>released</th>\n",
       "      <th>runtime</th>\n",
       "      <th>genre</th>\n",
       "      <th>director</th>\n",
       "      <th>writer</th>\n",
       "      <th>actors</th>\n",
       "      <th>language</th>\n",
       "      <th>country</th>\n",
       "      <th>awards</th>\n",
       "      <th>meta_score</th>\n",
       "      <th>imdb_rating</th>\n",
       "      <th>imdb_votes</th>\n",
       "      <th>imdb_id</th>\n",
       "    </tr>\n",
       "  </thead>\n",
       "  <tbody>\n",
       "    <tr>\n",
       "      <th>608</th>\n",
       "      <td>The Secret World of Arrietty</td>\n",
       "      <td>2010</td>\n",
       "      <td>G</td>\n",
       "      <td>17 Feb 2012</td>\n",
       "      <td>94</td>\n",
       "      <td>Animation, Adventure, Drama</td>\n",
       "      <td>Hiromasa Yonebayashi</td>\n",
       "      <td>Mary Norton, Hayao Miyazaki, Keiko Niwa</td>\n",
       "      <td>Amy Poehler, Will Arnett, Mirai Shida</td>\n",
       "      <td>Japanese</td>\n",
       "      <td>Japan</td>\n",
       "      <td>12 wins &amp; 6 nominations</td>\n",
       "      <td>80.0</td>\n",
       "      <td>7.6</td>\n",
       "      <td>89,613</td>\n",
       "      <td>tt1568921</td>\n",
       "    </tr>\n",
       "  </tbody>\n",
       "</table>\n",
       "</div>"
      ],
      "text/plain": [
       "                            title  year rated     released  runtime  \\\n",
       "608  The Secret World of Arrietty  2010     G  17 Feb 2012       94   \n",
       "\n",
       "                           genre              director  \\\n",
       "608  Animation, Adventure, Drama  Hiromasa Yonebayashi   \n",
       "\n",
       "                                      writer  \\\n",
       "608  Mary Norton, Hayao Miyazaki, Keiko Niwa   \n",
       "\n",
       "                                    actors  language country  \\\n",
       "608  Amy Poehler, Will Arnett, Mirai Shida  Japanese   Japan   \n",
       "\n",
       "                      awards  meta_score  imdb_rating imdb_votes    imdb_id  \n",
       "608  12 wins & 6 nominations        80.0          7.6     89,613  tt1568921  "
      ]
     },
     "execution_count": 10,
     "metadata": {},
     "output_type": "execute_result"
    }
   ],
   "source": [
    "imdb_df.tail(1)"
   ]
  },
  {
   "cell_type": "code",
   "execution_count": 6,
   "id": "a0828c15",
   "metadata": {},
   "outputs": [
    {
     "data": {
      "text/plain": [
       "title           object\n",
       "year            object\n",
       "rated           object\n",
       "released        object\n",
       "runtime          int64\n",
       "genre           object\n",
       "director        object\n",
       "writer          object\n",
       "actors          object\n",
       "language        object\n",
       "country         object\n",
       "awards          object\n",
       "meta_score     float64\n",
       "imdb_rating    float64\n",
       "imdb_votes      object\n",
       "imdb_id         object\n",
       "dtype: object"
      ]
     },
     "execution_count": 6,
     "metadata": {},
     "output_type": "execute_result"
    }
   ],
   "source": []
  },
  {
   "cell_type": "code",
   "execution_count": null,
   "id": "5db2b8db",
   "metadata": {},
   "outputs": [],
   "source": [
    "# copy one df to another df\n",
    "#small_df = big_df[[‘id','imdb_id','title','release_date','runtime','vote_average','vote_count']]"
   ]
  },
  {
   "cell_type": "code",
   "execution_count": 7,
   "id": "78201c90",
   "metadata": {},
   "outputs": [],
   "source": [
    "# Create data frame for metascore\n",
    "metascore_df = imdb_df [['imdb_id' , 'meta_score']]"
   ]
  },
  {
   "cell_type": "code",
   "execution_count": 32,
   "id": "c94d8baa",
   "metadata": {},
   "outputs": [],
   "source": [
    "# Make a running number for the df \n",
    "metascore_df['score_id'] = np.arange(len(metascore_df))"
   ]
  },
  {
   "cell_type": "code",
   "execution_count": 33,
   "id": "8b254303",
   "metadata": {},
   "outputs": [],
   "source": [
    "# make a score id a varchar to be used as pk in ERD\n",
    "metascore_df['score_id'] = 'ms0' + metascore_df['score_id'].astype(str)\n"
   ]
  },
  {
   "cell_type": "code",
   "execution_count": 34,
   "id": "1720fdb9",
   "metadata": {},
   "outputs": [
    {
     "data": {
      "text/html": [
       "<div>\n",
       "<style scoped>\n",
       "    .dataframe tbody tr th:only-of-type {\n",
       "        vertical-align: middle;\n",
       "    }\n",
       "\n",
       "    .dataframe tbody tr th {\n",
       "        vertical-align: top;\n",
       "    }\n",
       "\n",
       "    .dataframe thead th {\n",
       "        text-align: right;\n",
       "    }\n",
       "</style>\n",
       "<table border=\"1\" class=\"dataframe\">\n",
       "  <thead>\n",
       "    <tr style=\"text-align: right;\">\n",
       "      <th></th>\n",
       "      <th>imdb_id</th>\n",
       "      <th>meta_score</th>\n",
       "      <th>score_id</th>\n",
       "    </tr>\n",
       "  </thead>\n",
       "  <tbody>\n",
       "    <tr>\n",
       "      <th>599</th>\n",
       "      <td>tt0080684</td>\n",
       "      <td>82.0</td>\n",
       "      <td>ms0599</td>\n",
       "    </tr>\n",
       "    <tr>\n",
       "      <th>600</th>\n",
       "      <td>tt0118001</td>\n",
       "      <td>-1.0</td>\n",
       "      <td>ms0600</td>\n",
       "    </tr>\n",
       "    <tr>\n",
       "      <th>601</th>\n",
       "      <td>tt0111543</td>\n",
       "      <td>-1.0</td>\n",
       "      <td>ms0601</td>\n",
       "    </tr>\n",
       "    <tr>\n",
       "      <th>602</th>\n",
       "      <td>tt1159961</td>\n",
       "      <td>70.0</td>\n",
       "      <td>ms0602</td>\n",
       "    </tr>\n",
       "    <tr>\n",
       "      <th>603</th>\n",
       "      <td>tt1223150</td>\n",
       "      <td>55.0</td>\n",
       "      <td>ms0603</td>\n",
       "    </tr>\n",
       "    <tr>\n",
       "      <th>604</th>\n",
       "      <td>tt0120659</td>\n",
       "      <td>-1.0</td>\n",
       "      <td>ms0604</td>\n",
       "    </tr>\n",
       "    <tr>\n",
       "      <th>605</th>\n",
       "      <td>tt0119125</td>\n",
       "      <td>-1.0</td>\n",
       "      <td>ms0605</td>\n",
       "    </tr>\n",
       "    <tr>\n",
       "      <th>606</th>\n",
       "      <td>tt1305591</td>\n",
       "      <td>49.0</td>\n",
       "      <td>ms0606</td>\n",
       "    </tr>\n",
       "    <tr>\n",
       "      <th>607</th>\n",
       "      <td>tt0283426</td>\n",
       "      <td>38.0</td>\n",
       "      <td>ms0607</td>\n",
       "    </tr>\n",
       "    <tr>\n",
       "      <th>608</th>\n",
       "      <td>tt1568921</td>\n",
       "      <td>80.0</td>\n",
       "      <td>ms0608</td>\n",
       "    </tr>\n",
       "  </tbody>\n",
       "</table>\n",
       "</div>"
      ],
      "text/plain": [
       "       imdb_id  meta_score score_id\n",
       "599  tt0080684        82.0   ms0599\n",
       "600  tt0118001        -1.0   ms0600\n",
       "601  tt0111543        -1.0   ms0601\n",
       "602  tt1159961        70.0   ms0602\n",
       "603  tt1223150        55.0   ms0603\n",
       "604  tt0120659        -1.0   ms0604\n",
       "605  tt0119125        -1.0   ms0605\n",
       "606  tt1305591        49.0   ms0606\n",
       "607  tt0283426        38.0   ms0607\n",
       "608  tt1568921        80.0   ms0608"
      ]
     },
     "execution_count": 34,
     "metadata": {},
     "output_type": "execute_result"
    }
   ],
   "source": [
    "metascore_df.tail(10)"
   ]
  },
  {
   "cell_type": "code",
   "execution_count": 30,
   "id": "2cf82051",
   "metadata": {},
   "outputs": [],
   "source": []
  },
  {
   "cell_type": "code",
   "execution_count": null,
   "id": "b1b923b2",
   "metadata": {},
   "outputs": [],
   "source": []
  }
 ],
 "metadata": {
  "kernelspec": {
   "display_name": "PythonData",
   "language": "python",
   "name": "pythondata"
  },
  "language_info": {
   "codemirror_mode": {
    "name": "ipython",
    "version": 3
   },
   "file_extension": ".py",
   "mimetype": "text/x-python",
   "name": "python",
   "nbconvert_exporter": "python",
   "pygments_lexer": "ipython3",
   "version": "3.8.8"
  }
 },
 "nbformat": 4,
 "nbformat_minor": 5
}
