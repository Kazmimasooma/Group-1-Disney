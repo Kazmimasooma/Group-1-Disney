{
 "cells": [
  {
   "cell_type": "code",
   "execution_count": 1,
   "id": "e37e0dab",
   "metadata": {},
   "outputs": [],
   "source": [
    "import pandas as pd\n",
    "import requests # library to handle requests\n",
    "from bs4 import BeautifulSoup # library to parse HTML documents\n",
    "\n",
    "from pandas.io.html import read_html"
   ]
  },
  {
   "cell_type": "code",
   "execution_count": 2,
   "id": "71bf6699",
   "metadata": {},
   "outputs": [],
   "source": [
    "# # get the response in the form of html\n",
    "# wikiurl=\"https://en.wikipedia.org/wiki/List_of_Disney_animated_universe_characters\"\n",
    "# table_class=\"wikitable sortable jquery-tablesorter\"\n",
    "# response=requests.get(wikiurl)\n",
    "# print(response.status_code)"
   ]
  },
  {
   "cell_type": "markdown",
   "id": "f603447f",
   "metadata": {},
   "source": [
    "## Disney Characters"
   ]
  },
  {
   "cell_type": "code",
   "execution_count": 3,
   "id": "d20e991e",
   "metadata": {},
   "outputs": [],
   "source": [
    "# extract all tables on the page\n",
    "url_page = 'https://en.wikipedia.org/wiki/List_of_Disney_animated_universe_characters'\n",
    "tables = read_html(url_page, attrs={'class':'wikitable sortable'})"
   ]
  },
  {
   "cell_type": "code",
   "execution_count": 4,
   "id": "0e51d418",
   "metadata": {},
   "outputs": [
    {
     "name": "stdout",
     "output_type": "stream",
     "text": [
      "Extracted 26 tables\n"
     ]
    }
   ],
   "source": [
    "# Print the number of tables extracted from the page\n",
    "print('Extracted {num} tables'.format(num=len(tables)))"
   ]
  },
  {
   "cell_type": "code",
   "execution_count": 5,
   "id": "d9e46b4f",
   "metadata": {},
   "outputs": [
    {
     "data": {
      "text/html": [
       "<div>\n",
       "<style scoped>\n",
       "    .dataframe tbody tr th:only-of-type {\n",
       "        vertical-align: middle;\n",
       "    }\n",
       "\n",
       "    .dataframe tbody tr th {\n",
       "        vertical-align: top;\n",
       "    }\n",
       "\n",
       "    .dataframe thead th {\n",
       "        text-align: right;\n",
       "    }\n",
       "</style>\n",
       "<table border=\"1\" class=\"dataframe\">\n",
       "  <thead>\n",
       "    <tr style=\"text-align: right;\">\n",
       "      <th></th>\n",
       "      <th>Character</th>\n",
       "      <th>Original voice actor</th>\n",
       "      <th>Animated debut</th>\n",
       "    </tr>\n",
       "  </thead>\n",
       "  <tbody>\n",
       "    <tr>\n",
       "      <th>0</th>\n",
       "      <td>Abby Mallard</td>\n",
       "      <td>Joan Cusack[1]</td>\n",
       "      <td>Chicken Little</td>\n",
       "    </tr>\n",
       "    <tr>\n",
       "      <th>1</th>\n",
       "      <td>Abigail Callaghan</td>\n",
       "      <td>Katie Lowes</td>\n",
       "      <td>Big Hero 6</td>\n",
       "    </tr>\n",
       "    <tr>\n",
       "      <th>2</th>\n",
       "      <td>Abigail Gabble</td>\n",
       "      <td>Monica Evans[2]</td>\n",
       "      <td>The Aristocats</td>\n",
       "    </tr>\n",
       "    <tr>\n",
       "      <th>3</th>\n",
       "      <td>Abu</td>\n",
       "      <td>Frank Welker[3]</td>\n",
       "      <td>Aladdin</td>\n",
       "    </tr>\n",
       "    <tr>\n",
       "      <th>4</th>\n",
       "      <td>Abuela Alma Madrigal</td>\n",
       "      <td>María Cecilia BoteroOlga Merediz</td>\n",
       "      <td>Encanto</td>\n",
       "    </tr>\n",
       "  </tbody>\n",
       "</table>\n",
       "</div>"
      ],
      "text/plain": [
       "              Character              Original voice actor  Animated debut\n",
       "0          Abby Mallard                    Joan Cusack[1]  Chicken Little\n",
       "1     Abigail Callaghan                       Katie Lowes      Big Hero 6\n",
       "2        Abigail Gabble                   Monica Evans[2]  The Aristocats\n",
       "3                   Abu                   Frank Welker[3]         Aladdin\n",
       "4  Abuela Alma Madrigal  María Cecilia BoteroOlga Merediz         Encanto"
      ]
     },
     "execution_count": 5,
     "metadata": {},
     "output_type": "execute_result"
    }
   ],
   "source": [
    "tables[0].head()"
   ]
  },
  {
   "cell_type": "code",
   "execution_count": 6,
   "id": "5a6dfa78",
   "metadata": {},
   "outputs": [
    {
     "data": {
      "text/html": [
       "<div>\n",
       "<style scoped>\n",
       "    .dataframe tbody tr th:only-of-type {\n",
       "        vertical-align: middle;\n",
       "    }\n",
       "\n",
       "    .dataframe tbody tr th {\n",
       "        vertical-align: top;\n",
       "    }\n",
       "\n",
       "    .dataframe thead th {\n",
       "        text-align: right;\n",
       "    }\n",
       "</style>\n",
       "<table border=\"1\" class=\"dataframe\">\n",
       "  <thead>\n",
       "    <tr style=\"text-align: right;\">\n",
       "      <th></th>\n",
       "      <th>Character</th>\n",
       "      <th>Original voice actor</th>\n",
       "      <th>Animated debut</th>\n",
       "    </tr>\n",
       "  </thead>\n",
       "  <tbody>\n",
       "    <tr>\n",
       "      <th>0</th>\n",
       "      <td>B.E.N.</td>\n",
       "      <td>Martin Short</td>\n",
       "      <td>Treasure Planet[28]</td>\n",
       "    </tr>\n",
       "    <tr>\n",
       "      <th>1</th>\n",
       "      <td>Babette</td>\n",
       "      <td>Mary Kay Bergman[23]</td>\n",
       "      <td>Beauty and the Beast</td>\n",
       "    </tr>\n",
       "    <tr>\n",
       "      <th>2</th>\n",
       "      <td>Baby Red Bird</td>\n",
       "      <td>Tress MacNeille</td>\n",
       "      <td>Mickey Mouse Clubhouse</td>\n",
       "    </tr>\n",
       "    <tr>\n",
       "      <th>3</th>\n",
       "      <td>Baby Sinclair</td>\n",
       "      <td>Kevin Clash</td>\n",
       "      <td>Dinosaurs</td>\n",
       "    </tr>\n",
       "    <tr>\n",
       "      <th>4</th>\n",
       "      <td>Babyface Beagle</td>\n",
       "      <td>Terry McGovern</td>\n",
       "      <td>DuckTales</td>\n",
       "    </tr>\n",
       "  </tbody>\n",
       "</table>\n",
       "</div>"
      ],
      "text/plain": [
       "         Character  Original voice actor          Animated debut\n",
       "0           B.E.N.          Martin Short     Treasure Planet[28]\n",
       "1          Babette  Mary Kay Bergman[23]    Beauty and the Beast\n",
       "2    Baby Red Bird       Tress MacNeille  Mickey Mouse Clubhouse\n",
       "3    Baby Sinclair           Kevin Clash               Dinosaurs\n",
       "4  Babyface Beagle        Terry McGovern               DuckTales"
      ]
     },
     "execution_count": 6,
     "metadata": {},
     "output_type": "execute_result"
    }
   ],
   "source": [
    "tables[1].head()"
   ]
  },
  {
   "cell_type": "code",
   "execution_count": 7,
   "id": "f86f8c32",
   "metadata": {},
   "outputs": [
    {
     "data": {
      "text/html": [
       "<div>\n",
       "<style scoped>\n",
       "    .dataframe tbody tr th:only-of-type {\n",
       "        vertical-align: middle;\n",
       "    }\n",
       "\n",
       "    .dataframe tbody tr th {\n",
       "        vertical-align: top;\n",
       "    }\n",
       "\n",
       "    .dataframe thead th {\n",
       "        text-align: right;\n",
       "    }\n",
       "</style>\n",
       "<table border=\"1\" class=\"dataframe\">\n",
       "  <thead>\n",
       "    <tr style=\"text-align: right;\">\n",
       "      <th></th>\n",
       "      <th>Character</th>\n",
       "      <th>Original voice actor</th>\n",
       "      <th>Animated debut</th>\n",
       "    </tr>\n",
       "  </thead>\n",
       "  <tbody>\n",
       "    <tr>\n",
       "      <th>0</th>\n",
       "      <td>Abby Mallard</td>\n",
       "      <td>Joan Cusack[1]</td>\n",
       "      <td>Chicken Little</td>\n",
       "    </tr>\n",
       "    <tr>\n",
       "      <th>1</th>\n",
       "      <td>Abigail Callaghan</td>\n",
       "      <td>Katie Lowes</td>\n",
       "      <td>Big Hero 6</td>\n",
       "    </tr>\n",
       "    <tr>\n",
       "      <th>2</th>\n",
       "      <td>Abigail Gabble</td>\n",
       "      <td>Monica Evans[2]</td>\n",
       "      <td>The Aristocats</td>\n",
       "    </tr>\n",
       "    <tr>\n",
       "      <th>3</th>\n",
       "      <td>Abu</td>\n",
       "      <td>Frank Welker[3]</td>\n",
       "      <td>Aladdin</td>\n",
       "    </tr>\n",
       "    <tr>\n",
       "      <th>4</th>\n",
       "      <td>Abuela Alma Madrigal</td>\n",
       "      <td>María Cecilia BoteroOlga Merediz</td>\n",
       "      <td>Encanto</td>\n",
       "    </tr>\n",
       "  </tbody>\n",
       "</table>\n",
       "</div>"
      ],
      "text/plain": [
       "              Character              Original voice actor  Animated debut\n",
       "0          Abby Mallard                    Joan Cusack[1]  Chicken Little\n",
       "1     Abigail Callaghan                       Katie Lowes      Big Hero 6\n",
       "2        Abigail Gabble                   Monica Evans[2]  The Aristocats\n",
       "3                   Abu                   Frank Welker[3]         Aladdin\n",
       "4  Abuela Alma Madrigal  María Cecilia BoteroOlga Merediz         Encanto"
      ]
     },
     "execution_count": 7,
     "metadata": {},
     "output_type": "execute_result"
    }
   ],
   "source": [
    "# concatenating tables\n",
    "df = pd.concat([tables[0],tables[1],tables[2],tables[3],tables[4],tables[5],\\\n",
    "               tables[6],tables[7],tables[8],tables[9],tables[10],tables[11],\\\n",
    "               tables[12],tables[13],tables[14],tables[15],tables[16],tables[17],\\\n",
    "               tables[18],tables[19],tables[20],tables[21],tables[22],tables[23],\\\n",
    "               tables[24],tables[25]], axis=0)\n",
    "df.head()"
   ]
  },
  {
   "cell_type": "code",
   "execution_count": 8,
   "id": "d3479eff",
   "metadata": {},
   "outputs": [],
   "source": [
    "# table_list=[]\n",
    "# # def print_funct():\n",
    "# #     print (f'tables[{i}],')\n",
    "    \n",
    "# for i in range(len(tables)):\n",
    "#     if i == int(len(tables)):\n",
    "#         print (f'tables[{i}]')\n",
    "#     else:\n",
    "#         print (f'tables[{i}],')\n",
    "#         tab = print (f'tables[{i}],')\n",
    "#         tab= f'tables[{i}]'\n",
    "#         table_list.append(tab)\n",
    "#         #table_list[frozenset(i)].append(tab)\n",
    "\n",
    "#     #table_list.append(item)\n",
    "\n",
    "# df = pd.concat([locals()[x] for x in len([table_list])], axis=0)\n",
    "# #pd.concat([locals()[str_list[0]], locals()[str_list[1]]])"
   ]
  },
  {
   "cell_type": "code",
   "execution_count": 9,
   "id": "9157d050",
   "metadata": {},
   "outputs": [],
   "source": [
    "df.to_csv('output/disney_voice_characters.csv', index=False)"
   ]
  },
  {
   "cell_type": "markdown",
   "id": "8b220c4e",
   "metadata": {},
   "source": [
    "## Pixar Characters"
   ]
  },
  {
   "cell_type": "code",
   "execution_count": 10,
   "id": "3ccaf9da",
   "metadata": {},
   "outputs": [],
   "source": [
    "# extract all tables on the page\n",
    "url_page = 'https://en.wikipedia.org/wiki/List_of_Pixar_characters'\n",
    "tables = read_html(url_page, attrs={'class':'wikitable sortable'})"
   ]
  },
  {
   "cell_type": "code",
   "execution_count": 11,
   "id": "f59876c1",
   "metadata": {},
   "outputs": [
    {
     "name": "stdout",
     "output_type": "stream",
     "text": [
      "Extracted 27 tables\n"
     ]
    }
   ],
   "source": [
    "# Print the number of tables extracted from the page\n",
    "print('Extracted {num} tables'.format(num=len(tables)))"
   ]
  },
  {
   "cell_type": "code",
   "execution_count": 12,
   "id": "ce8cc4d6",
   "metadata": {},
   "outputs": [
    {
     "data": {
      "text/html": [
       "<div>\n",
       "<style scoped>\n",
       "    .dataframe tbody tr th:only-of-type {\n",
       "        vertical-align: middle;\n",
       "    }\n",
       "\n",
       "    .dataframe tbody tr th {\n",
       "        vertical-align: top;\n",
       "    }\n",
       "\n",
       "    .dataframe thead th {\n",
       "        text-align: right;\n",
       "    }\n",
       "</style>\n",
       "<table border=\"1\" class=\"dataframe\">\n",
       "  <thead>\n",
       "    <tr style=\"text-align: right;\">\n",
       "      <th></th>\n",
       "      <th>Character</th>\n",
       "      <th>Original voice actor</th>\n",
       "      <th>Animated debut</th>\n",
       "    </tr>\n",
       "  </thead>\n",
       "  <tbody>\n",
       "    <tr>\n",
       "      <th>0</th>\n",
       "      <td>22</td>\n",
       "      <td>Tina Fey[1]</td>\n",
       "      <td>Soul</td>\n",
       "    </tr>\n",
       "  </tbody>\n",
       "</table>\n",
       "</div>"
      ],
      "text/plain": [
       "   Character Original voice actor Animated debut\n",
       "0         22          Tina Fey[1]           Soul"
      ]
     },
     "execution_count": 12,
     "metadata": {},
     "output_type": "execute_result"
    }
   ],
   "source": [
    "tables[0].head()"
   ]
  },
  {
   "cell_type": "code",
   "execution_count": 13,
   "id": "f04a1a20",
   "metadata": {},
   "outputs": [
    {
     "data": {
      "text/html": [
       "<div>\n",
       "<style scoped>\n",
       "    .dataframe tbody tr th:only-of-type {\n",
       "        vertical-align: middle;\n",
       "    }\n",
       "\n",
       "    .dataframe tbody tr th {\n",
       "        vertical-align: top;\n",
       "    }\n",
       "\n",
       "    .dataframe thead th {\n",
       "        text-align: right;\n",
       "    }\n",
       "</style>\n",
       "<table border=\"1\" class=\"dataframe\">\n",
       "  <thead>\n",
       "    <tr style=\"text-align: right;\">\n",
       "      <th></th>\n",
       "      <th>Character</th>\n",
       "      <th>Original voice actor</th>\n",
       "      <th>Animated debut</th>\n",
       "    </tr>\n",
       "  </thead>\n",
       "  <tbody>\n",
       "    <tr>\n",
       "      <th>0</th>\n",
       "      <td>Aaron T.</td>\n",
       "      <td>Topher Ngo[2]</td>\n",
       "      <td>Turning Red</td>\n",
       "    </tr>\n",
       "    <tr>\n",
       "      <th>1</th>\n",
       "      <td>Aaron Z.</td>\n",
       "      <td>Josh Levi[2]</td>\n",
       "      <td>Turning Red</td>\n",
       "    </tr>\n",
       "    <tr>\n",
       "      <th>2</th>\n",
       "      <td>Abby Park</td>\n",
       "      <td>Hyein Park[2]</td>\n",
       "      <td>Turning Red</td>\n",
       "    </tr>\n",
       "    <tr>\n",
       "      <th>3</th>\n",
       "      <td>Abominable Snowman</td>\n",
       "      <td>John Ratzenberger[3][4]</td>\n",
       "      <td>Monsters, Inc.</td>\n",
       "    </tr>\n",
       "    <tr>\n",
       "      <th>4</th>\n",
       "      <td>Acer</td>\n",
       "      <td>Peter Jacobson[5]</td>\n",
       "      <td>Cars 2</td>\n",
       "    </tr>\n",
       "  </tbody>\n",
       "</table>\n",
       "</div>"
      ],
      "text/plain": [
       "            Character     Original voice actor  Animated debut\n",
       "0            Aaron T.            Topher Ngo[2]     Turning Red\n",
       "1            Aaron Z.             Josh Levi[2]     Turning Red\n",
       "2           Abby Park            Hyein Park[2]     Turning Red\n",
       "3  Abominable Snowman  John Ratzenberger[3][4]  Monsters, Inc.\n",
       "4                Acer        Peter Jacobson[5]          Cars 2"
      ]
     },
     "execution_count": 13,
     "metadata": {},
     "output_type": "execute_result"
    }
   ],
   "source": [
    "tables[1].head()"
   ]
  },
  {
   "cell_type": "code",
   "execution_count": 14,
   "id": "844b1309",
   "metadata": {},
   "outputs": [
    {
     "data": {
      "text/html": [
       "<div>\n",
       "<style scoped>\n",
       "    .dataframe tbody tr th:only-of-type {\n",
       "        vertical-align: middle;\n",
       "    }\n",
       "\n",
       "    .dataframe tbody tr th {\n",
       "        vertical-align: top;\n",
       "    }\n",
       "\n",
       "    .dataframe thead th {\n",
       "        text-align: right;\n",
       "    }\n",
       "</style>\n",
       "<table border=\"1\" class=\"dataframe\">\n",
       "  <thead>\n",
       "    <tr style=\"text-align: right;\">\n",
       "      <th></th>\n",
       "      <th>Character</th>\n",
       "      <th>Original voice actor</th>\n",
       "      <th>Animated debut</th>\n",
       "    </tr>\n",
       "  </thead>\n",
       "  <tbody>\n",
       "    <tr>\n",
       "      <th>0</th>\n",
       "      <td>22</td>\n",
       "      <td>Tina Fey[1]</td>\n",
       "      <td>Soul</td>\n",
       "    </tr>\n",
       "    <tr>\n",
       "      <th>0</th>\n",
       "      <td>Aaron T.</td>\n",
       "      <td>Topher Ngo[2]</td>\n",
       "      <td>Turning Red</td>\n",
       "    </tr>\n",
       "    <tr>\n",
       "      <th>1</th>\n",
       "      <td>Aaron Z.</td>\n",
       "      <td>Josh Levi[2]</td>\n",
       "      <td>Turning Red</td>\n",
       "    </tr>\n",
       "    <tr>\n",
       "      <th>2</th>\n",
       "      <td>Abby Park</td>\n",
       "      <td>Hyein Park[2]</td>\n",
       "      <td>Turning Red</td>\n",
       "    </tr>\n",
       "    <tr>\n",
       "      <th>3</th>\n",
       "      <td>Abominable Snowman</td>\n",
       "      <td>John Ratzenberger[3][4]</td>\n",
       "      <td>Monsters, Inc.</td>\n",
       "    </tr>\n",
       "  </tbody>\n",
       "</table>\n",
       "</div>"
      ],
      "text/plain": [
       "            Character     Original voice actor  Animated debut\n",
       "0                  22              Tina Fey[1]            Soul\n",
       "0            Aaron T.            Topher Ngo[2]     Turning Red\n",
       "1            Aaron Z.             Josh Levi[2]     Turning Red\n",
       "2           Abby Park            Hyein Park[2]     Turning Red\n",
       "3  Abominable Snowman  John Ratzenberger[3][4]  Monsters, Inc."
      ]
     },
     "execution_count": 14,
     "metadata": {},
     "output_type": "execute_result"
    }
   ],
   "source": [
    "# concatenating tables\n",
    "df = pd.concat([tables[0],tables[1],tables[2],tables[3],tables[4],tables[5],\\\n",
    "               tables[6],tables[7],tables[8],tables[9],tables[10],tables[11],\\\n",
    "               tables[12],tables[13],tables[14],tables[15],tables[16],tables[17],\\\n",
    "               tables[18],tables[19],tables[20],tables[21],tables[22],tables[23],\\\n",
    "               tables[24],tables[25],tables[26]], axis=0)\n",
    "df.head()"
   ]
  },
  {
   "cell_type": "code",
   "execution_count": 15,
   "id": "7f8a26b7",
   "metadata": {},
   "outputs": [],
   "source": [
    "df.to_csv('output/pixar_voice_characters.csv', index=False)"
   ]
  },
  {
   "cell_type": "code",
   "execution_count": null,
   "id": "50a308c1",
   "metadata": {},
   "outputs": [],
   "source": []
  }
 ],
 "metadata": {
  "kernelspec": {
   "display_name": "mlenv",
   "language": "python",
   "name": "mlenv"
  },
  "language_info": {
   "codemirror_mode": {
    "name": "ipython",
    "version": 3
   },
   "file_extension": ".py",
   "mimetype": "text/x-python",
   "name": "python",
   "nbconvert_exporter": "python",
   "pygments_lexer": "ipython3",
   "version": "3.7.7"
  }
 },
 "nbformat": 4,
 "nbformat_minor": 5
}
