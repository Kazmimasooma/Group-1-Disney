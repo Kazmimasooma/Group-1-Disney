{
 "cells": [
  {
   "cell_type": "code",
   "execution_count": 39,
   "id": "0cead956",
   "metadata": {},
   "outputs": [
    {
     "ename": "ImportError",
     "evalue": "cannot import name 'db_password' from 'config' (C:\\ProgramData\\Anaconda3\\lib\\site-packages\\config\\__init__.py)",
     "output_type": "error",
     "traceback": [
      "\u001b[1;31m---------------------------------------------------------------------------\u001b[0m",
      "\u001b[1;31mImportError\u001b[0m                               Traceback (most recent call last)",
      "\u001b[1;32m<ipython-input-39-cc9ef2b0f973>\u001b[0m in \u001b[0;36m<module>\u001b[1;34m\u001b[0m\n\u001b[0;32m      3\u001b[0m \u001b[1;32mimport\u001b[0m \u001b[0mre\u001b[0m\u001b[1;33m\u001b[0m\u001b[1;33m\u001b[0m\u001b[0m\n\u001b[0;32m      4\u001b[0m \u001b[1;32mfrom\u001b[0m \u001b[0msqlalchemy\u001b[0m \u001b[1;32mimport\u001b[0m \u001b[0mcreate_engine\u001b[0m\u001b[1;33m\u001b[0m\u001b[1;33m\u001b[0m\u001b[0m\n\u001b[1;32m----> 5\u001b[1;33m \u001b[1;32mfrom\u001b[0m \u001b[0mconfig\u001b[0m \u001b[1;32mimport\u001b[0m \u001b[0mdb_password\u001b[0m\u001b[1;33m\u001b[0m\u001b[1;33m\u001b[0m\u001b[0m\n\u001b[0m",
      "\u001b[1;31mImportError\u001b[0m: cannot import name 'db_password' from 'config' (C:\\ProgramData\\Anaconda3\\lib\\site-packages\\config\\__init__.py)"
     ]
    }
   ],
   "source": [
    "import pandas as pd\n",
    "import numpy as np\n",
    "import re\n",
    "from sqlalchemy import create_engine\n",
    "from config import db_password"
   ]
  },
  {
   "cell_type": "code",
   "execution_count": 2,
   "id": "18c96306",
   "metadata": {},
   "outputs": [],
   "source": [
    "#load IMDB movies dataset\n",
    "imdb_df = pd.read_csv('../Resources/IMDB_movies.csv')"
   ]
  },
  {
   "cell_type": "code",
   "execution_count": 3,
   "id": "fba2d537",
   "metadata": {},
   "outputs": [],
   "source": [
    "# change column names with lower case\n",
    "imdb_df.columns= ['title', 'year' , 'rated' , 'released' , 'runtime' , 'genre', 'director' , 'writer' , 'actors', 'language' , 'country' , 'awards' , 'meta_score' , 'imdb_rating' , 'imdb_votes', 'imdb_id']"
   ]
  },
  {
   "cell_type": "code",
   "execution_count": 4,
   "id": "82a43ad5",
   "metadata": {},
   "outputs": [
    {
     "data": {
      "text/html": [
       "<div>\n",
       "<style scoped>\n",
       "    .dataframe tbody tr th:only-of-type {\n",
       "        vertical-align: middle;\n",
       "    }\n",
       "\n",
       "    .dataframe tbody tr th {\n",
       "        vertical-align: top;\n",
       "    }\n",
       "\n",
       "    .dataframe thead th {\n",
       "        text-align: right;\n",
       "    }\n",
       "</style>\n",
       "<table border=\"1\" class=\"dataframe\">\n",
       "  <thead>\n",
       "    <tr style=\"text-align: right;\">\n",
       "      <th></th>\n",
       "      <th>title</th>\n",
       "      <th>year</th>\n",
       "      <th>rated</th>\n",
       "      <th>released</th>\n",
       "      <th>runtime</th>\n",
       "      <th>genre</th>\n",
       "      <th>director</th>\n",
       "      <th>writer</th>\n",
       "      <th>actors</th>\n",
       "      <th>language</th>\n",
       "      <th>country</th>\n",
       "      <th>awards</th>\n",
       "      <th>meta_score</th>\n",
       "      <th>imdb_rating</th>\n",
       "      <th>imdb_votes</th>\n",
       "      <th>imdb_id</th>\n",
       "    </tr>\n",
       "  </thead>\n",
       "  <tbody>\n",
       "    <tr>\n",
       "      <th>608</th>\n",
       "      <td>The Secret World of Arrietty</td>\n",
       "      <td>2010</td>\n",
       "      <td>G</td>\n",
       "      <td>17 Feb 2012</td>\n",
       "      <td>94</td>\n",
       "      <td>Animation, Adventure, Drama</td>\n",
       "      <td>Hiromasa Yonebayashi</td>\n",
       "      <td>Mary Norton, Hayao Miyazaki, Keiko Niwa</td>\n",
       "      <td>Amy Poehler, Will Arnett, Mirai Shida</td>\n",
       "      <td>Japanese</td>\n",
       "      <td>Japan</td>\n",
       "      <td>12 wins &amp; 6 nominations</td>\n",
       "      <td>80.0</td>\n",
       "      <td>7.6</td>\n",
       "      <td>89,613</td>\n",
       "      <td>tt1568921</td>\n",
       "    </tr>\n",
       "  </tbody>\n",
       "</table>\n",
       "</div>"
      ],
      "text/plain": [
       "                            title  year rated     released  runtime  \\\n",
       "608  The Secret World of Arrietty  2010     G  17 Feb 2012       94   \n",
       "\n",
       "                           genre              director  \\\n",
       "608  Animation, Adventure, Drama  Hiromasa Yonebayashi   \n",
       "\n",
       "                                      writer  \\\n",
       "608  Mary Norton, Hayao Miyazaki, Keiko Niwa   \n",
       "\n",
       "                                    actors  language country  \\\n",
       "608  Amy Poehler, Will Arnett, Mirai Shida  Japanese   Japan   \n",
       "\n",
       "                      awards  meta_score  imdb_rating imdb_votes    imdb_id  \n",
       "608  12 wins & 6 nominations        80.0          7.6     89,613  tt1568921  "
      ]
     },
     "execution_count": 4,
     "metadata": {},
     "output_type": "execute_result"
    }
   ],
   "source": [
    "imdb_df.tail(1)"
   ]
  },
  {
   "cell_type": "code",
   "execution_count": 5,
   "id": "ba8b8555",
   "metadata": {},
   "outputs": [],
   "source": [
    "# Create data frame for metascore\n",
    "metascore_df = imdb_df [['imdb_id' , 'meta_score']]"
   ]
  },
  {
   "cell_type": "code",
   "execution_count": 6,
   "id": "c7db8262",
   "metadata": {},
   "outputs": [
    {
     "name": "stderr",
     "output_type": "stream",
     "text": [
      "<ipython-input-6-3756d18068b6>:2: SettingWithCopyWarning: \n",
      "A value is trying to be set on a copy of a slice from a DataFrame.\n",
      "Try using .loc[row_indexer,col_indexer] = value instead\n",
      "\n",
      "See the caveats in the documentation: https://pandas.pydata.org/pandas-docs/stable/user_guide/indexing.html#returning-a-view-versus-a-copy\n",
      "  metascore_df['score_id'] = np.arange(len(metascore_df))\n"
     ]
    }
   ],
   "source": [
    "# Make a running number for the df \n",
    "metascore_df['score_id'] = np.arange(len(metascore_df))"
   ]
  },
  {
   "cell_type": "code",
   "execution_count": 7,
   "id": "e7e7912e",
   "metadata": {},
   "outputs": [
    {
     "name": "stderr",
     "output_type": "stream",
     "text": [
      "<ipython-input-7-14dde66343c3>:2: SettingWithCopyWarning: \n",
      "A value is trying to be set on a copy of a slice from a DataFrame.\n",
      "Try using .loc[row_indexer,col_indexer] = value instead\n",
      "\n",
      "See the caveats in the documentation: https://pandas.pydata.org/pandas-docs/stable/user_guide/indexing.html#returning-a-view-versus-a-copy\n",
      "  metascore_df['score_id'] = 'ms0' + metascore_df['score_id'].astype(str)\n"
     ]
    }
   ],
   "source": [
    "# make a score id a varchar to be used as pk in ERD\n",
    "metascore_df['score_id'] = 'ms0' + metascore_df['score_id'].astype(str)"
   ]
  },
  {
   "cell_type": "code",
   "execution_count": 15,
   "id": "78c96284",
   "metadata": {},
   "outputs": [
    {
     "data": {
      "text/html": [
       "<div>\n",
       "<style scoped>\n",
       "    .dataframe tbody tr th:only-of-type {\n",
       "        vertical-align: middle;\n",
       "    }\n",
       "\n",
       "    .dataframe tbody tr th {\n",
       "        vertical-align: top;\n",
       "    }\n",
       "\n",
       "    .dataframe thead th {\n",
       "        text-align: right;\n",
       "    }\n",
       "</style>\n",
       "<table border=\"1\" class=\"dataframe\">\n",
       "  <thead>\n",
       "    <tr style=\"text-align: right;\">\n",
       "      <th></th>\n",
       "      <th>imdb_id</th>\n",
       "      <th>meta_score</th>\n",
       "      <th>score_id</th>\n",
       "    </tr>\n",
       "  </thead>\n",
       "  <tbody>\n",
       "    <tr>\n",
       "      <th>0</th>\n",
       "      <td>tt0115433</td>\n",
       "      <td>49.0</td>\n",
       "      <td>ms00</td>\n",
       "    </tr>\n",
       "  </tbody>\n",
       "</table>\n",
       "</div>"
      ],
      "text/plain": [
       "     imdb_id  meta_score score_id\n",
       "0  tt0115433        49.0     ms00"
      ]
     },
     "execution_count": 15,
     "metadata": {},
     "output_type": "execute_result"
    }
   ],
   "source": [
    "metascore_df.head(1)"
   ]
  },
  {
   "cell_type": "code",
   "execution_count": 9,
   "id": "90abcc12",
   "metadata": {},
   "outputs": [],
   "source": [
    "metascore_df.to_csv('Datasets/Metascore.csv', index = None, header=True) "
   ]
  },
  {
   "cell_type": "code",
   "execution_count": 10,
   "id": "e6e80fd5",
   "metadata": {},
   "outputs": [],
   "source": [
    "# Create data frame for language & country\n",
    "lang_cntr_df = imdb_df [['imdb_id' , 'language' , 'country']]"
   ]
  },
  {
   "cell_type": "code",
   "execution_count": 11,
   "id": "8aa04d88",
   "metadata": {},
   "outputs": [
    {
     "name": "stderr",
     "output_type": "stream",
     "text": [
      "<ipython-input-11-5576ea736987>:2: SettingWithCopyWarning: \n",
      "A value is trying to be set on a copy of a slice from a DataFrame.\n",
      "Try using .loc[row_indexer,col_indexer] = value instead\n",
      "\n",
      "See the caveats in the documentation: https://pandas.pydata.org/pandas-docs/stable/user_guide/indexing.html#returning-a-view-versus-a-copy\n",
      "  lang_cntr_df['country_id'] = np.arange(len(lang_cntr_df))\n"
     ]
    }
   ],
   "source": [
    "# Make a running number for the df \n",
    "lang_cntr_df['country_id'] = np.arange(len(lang_cntr_df))"
   ]
  },
  {
   "cell_type": "code",
   "execution_count": 13,
   "id": "58e08b42",
   "metadata": {},
   "outputs": [
    {
     "name": "stderr",
     "output_type": "stream",
     "text": [
      "<ipython-input-13-e01672395588>:2: SettingWithCopyWarning: \n",
      "A value is trying to be set on a copy of a slice from a DataFrame.\n",
      "Try using .loc[row_indexer,col_indexer] = value instead\n",
      "\n",
      "See the caveats in the documentation: https://pandas.pydata.org/pandas-docs/stable/user_guide/indexing.html#returning-a-view-versus-a-copy\n",
      "  lang_cntr_df['country_id'] = 'cs0' + lang_cntr_df['country_id'].astype(str)\n"
     ]
    }
   ],
   "source": [
    "# make a country id a varchar to be used as pk in ERD\n",
    "lang_cntr_df['country_id'] = 'cs0' + lang_cntr_df['country_id'].astype(str)"
   ]
  },
  {
   "cell_type": "code",
   "execution_count": 14,
   "id": "a4d88d20",
   "metadata": {},
   "outputs": [
    {
     "data": {
      "text/html": [
       "<div>\n",
       "<style scoped>\n",
       "    .dataframe tbody tr th:only-of-type {\n",
       "        vertical-align: middle;\n",
       "    }\n",
       "\n",
       "    .dataframe tbody tr th {\n",
       "        vertical-align: top;\n",
       "    }\n",
       "\n",
       "    .dataframe thead th {\n",
       "        text-align: right;\n",
       "    }\n",
       "</style>\n",
       "<table border=\"1\" class=\"dataframe\">\n",
       "  <thead>\n",
       "    <tr style=\"text-align: right;\">\n",
       "      <th></th>\n",
       "      <th>imdb_id</th>\n",
       "      <th>language</th>\n",
       "      <th>country</th>\n",
       "      <th>country_id</th>\n",
       "    </tr>\n",
       "  </thead>\n",
       "  <tbody>\n",
       "    <tr>\n",
       "      <th>0</th>\n",
       "      <td>tt0115433</td>\n",
       "      <td>English, Spanish</td>\n",
       "      <td>United States, United Kingdom</td>\n",
       "      <td>cs00</td>\n",
       "    </tr>\n",
       "    <tr>\n",
       "      <th>1</th>\n",
       "      <td>tt0211181</td>\n",
       "      <td>English</td>\n",
       "      <td>United States, United Kingdom</td>\n",
       "      <td>cs01</td>\n",
       "    </tr>\n",
       "    <tr>\n",
       "      <th>2</th>\n",
       "      <td>tt0103594</td>\n",
       "      <td>English, Spanish, Latin, Arabic</td>\n",
       "      <td>United Kingdom, France, Spain</td>\n",
       "      <td>cs02</td>\n",
       "    </tr>\n",
       "    <tr>\n",
       "      <th>3</th>\n",
       "      <td>tt0046672</td>\n",
       "      <td>English</td>\n",
       "      <td>United States</td>\n",
       "      <td>cs03</td>\n",
       "    </tr>\n",
       "    <tr>\n",
       "      <th>4</th>\n",
       "      <td>tt0307901</td>\n",
       "      <td>English</td>\n",
       "      <td>United States</td>\n",
       "      <td>cs04</td>\n",
       "    </tr>\n",
       "  </tbody>\n",
       "</table>\n",
       "</div>"
      ],
      "text/plain": [
       "     imdb_id                         language                        country  \\\n",
       "0  tt0115433                 English, Spanish  United States, United Kingdom   \n",
       "1  tt0211181                          English  United States, United Kingdom   \n",
       "2  tt0103594  English, Spanish, Latin, Arabic  United Kingdom, France, Spain   \n",
       "3  tt0046672                          English                  United States   \n",
       "4  tt0307901                          English                  United States   \n",
       "\n",
       "  country_id  \n",
       "0       cs00  \n",
       "1       cs01  \n",
       "2       cs02  \n",
       "3       cs03  \n",
       "4       cs04  "
      ]
     },
     "execution_count": 14,
     "metadata": {},
     "output_type": "execute_result"
    }
   ],
   "source": [
    "lang_cntr_df.head()"
   ]
  },
  {
   "cell_type": "code",
   "execution_count": 16,
   "id": "ae19c1bc",
   "metadata": {},
   "outputs": [],
   "source": [
    "# Export data set\n",
    "lang_cntr_df.to_csv('Datasets/Language_Country.csv', index = None, header=True)"
   ]
  },
  {
   "cell_type": "code",
   "execution_count": 17,
   "id": "ef3f7baa",
   "metadata": {},
   "outputs": [],
   "source": [
    "# Create data frame for Awards\n",
    "awards_df = imdb_df [['imdb_id' , 'awards' , 'released']]"
   ]
  },
  {
   "cell_type": "code",
   "execution_count": 20,
   "id": "4f69207c",
   "metadata": {},
   "outputs": [
    {
     "name": "stderr",
     "output_type": "stream",
     "text": [
      "<ipython-input-20-d19f8bead1c8>:2: SettingWithCopyWarning: \n",
      "A value is trying to be set on a copy of a slice from a DataFrame.\n",
      "Try using .loc[row_indexer,col_indexer] = value instead\n",
      "\n",
      "See the caveats in the documentation: https://pandas.pydata.org/pandas-docs/stable/user_guide/indexing.html#returning-a-view-versus-a-copy\n",
      "  awards_df['awards_id'] = np.arange(len(awards_df))\n"
     ]
    }
   ],
   "source": [
    "# Make a running number for the df \n",
    "awards_df['awards_id'] = np.arange(len(awards_df))"
   ]
  },
  {
   "cell_type": "code",
   "execution_count": 22,
   "id": "c837480c",
   "metadata": {},
   "outputs": [
    {
     "name": "stderr",
     "output_type": "stream",
     "text": [
      "<ipython-input-22-20bd87f7dc28>:2: SettingWithCopyWarning: \n",
      "A value is trying to be set on a copy of a slice from a DataFrame.\n",
      "Try using .loc[row_indexer,col_indexer] = value instead\n",
      "\n",
      "See the caveats in the documentation: https://pandas.pydata.org/pandas-docs/stable/user_guide/indexing.html#returning-a-view-versus-a-copy\n",
      "  awards_df['awards_id'] = 'aw0' + awards_df['awards_id'].astype(str)\n"
     ]
    }
   ],
   "source": [
    "# make a country id a varchar to be used as pk in ERD\n",
    "awards_df['awards_id'] = 'aw0' + awards_df['awards_id'].astype(str)"
   ]
  },
  {
   "cell_type": "code",
   "execution_count": 27,
   "id": "76a4edf4",
   "metadata": {},
   "outputs": [
    {
     "data": {
      "text/html": [
       "<div>\n",
       "<style scoped>\n",
       "    .dataframe tbody tr th:only-of-type {\n",
       "        vertical-align: middle;\n",
       "    }\n",
       "\n",
       "    .dataframe tbody tr th {\n",
       "        vertical-align: top;\n",
       "    }\n",
       "\n",
       "    .dataframe thead th {\n",
       "        text-align: right;\n",
       "    }\n",
       "</style>\n",
       "<table border=\"1\" class=\"dataframe\">\n",
       "  <thead>\n",
       "    <tr style=\"text-align: right;\">\n",
       "      <th></th>\n",
       "      <th>imdb_id</th>\n",
       "      <th>awards</th>\n",
       "      <th>released</th>\n",
       "      <th>awards_id</th>\n",
       "    </tr>\n",
       "  </thead>\n",
       "  <tbody>\n",
       "    <tr>\n",
       "      <th>0</th>\n",
       "      <td>tt0115433</td>\n",
       "      <td>Nominated for 1 BAFTA Film Award3 wins &amp; 10 no...</td>\n",
       "      <td>27 Nov 1996</td>\n",
       "      <td>aw00</td>\n",
       "    </tr>\n",
       "  </tbody>\n",
       "</table>\n",
       "</div>"
      ],
      "text/plain": [
       "     imdb_id                                             awards     released  \\\n",
       "0  tt0115433  Nominated for 1 BAFTA Film Award3 wins & 10 no...  27 Nov 1996   \n",
       "\n",
       "  awards_id  \n",
       "0      aw00  "
      ]
     },
     "execution_count": 27,
     "metadata": {},
     "output_type": "execute_result"
    }
   ],
   "source": [
    "awards_df.head(1)"
   ]
  },
  {
   "cell_type": "code",
   "execution_count": 28,
   "id": "f1f0a22d",
   "metadata": {},
   "outputs": [],
   "source": [
    "# Export data set\n",
    "awards_df.to_csv('Datasets/Awards.csv', index = None, header=True)"
   ]
  },
  {
   "cell_type": "code",
   "execution_count": 33,
   "id": "07b66dc0",
   "metadata": {},
   "outputs": [
    {
     "data": {
      "text/html": [
       "<div>\n",
       "<style scoped>\n",
       "    .dataframe tbody tr th:only-of-type {\n",
       "        vertical-align: middle;\n",
       "    }\n",
       "\n",
       "    .dataframe tbody tr th {\n",
       "        vertical-align: top;\n",
       "    }\n",
       "\n",
       "    .dataframe thead th {\n",
       "        text-align: right;\n",
       "    }\n",
       "</style>\n",
       "<table border=\"1\" class=\"dataframe\">\n",
       "  <thead>\n",
       "    <tr style=\"text-align: right;\">\n",
       "      <th></th>\n",
       "      <th>movie_title</th>\n",
       "      <th>year</th>\n",
       "      <th>release_date</th>\n",
       "      <th>total_gross</th>\n",
       "      <th>inflation_adjusted_gross</th>\n",
       "    </tr>\n",
       "  </thead>\n",
       "  <tbody>\n",
       "    <tr>\n",
       "      <th>0</th>\n",
       "      <td>101 Dalmatians</td>\n",
       "      <td>1961</td>\n",
       "      <td>Jan 25, 1961</td>\n",
       "      <td>153000000</td>\n",
       "      <td>1386568896</td>\n",
       "    </tr>\n",
       "  </tbody>\n",
       "</table>\n",
       "</div>"
      ],
      "text/plain": [
       "      movie_title  year  release_date  total_gross  inflation_adjusted_gross\n",
       "0  101 Dalmatians  1961  Jan 25, 1961    153000000                1386568896"
      ]
     },
     "execution_count": 33,
     "metadata": {},
     "output_type": "execute_result"
    }
   ],
   "source": [
    "revenue_df = pd.read_csv('../Resources/FINAL_2021_disney_movies_total_gross.csv')\n",
    "revenue_df.head(1)"
   ]
  },
  {
   "cell_type": "code",
   "execution_count": 34,
   "id": "04ae8cc5",
   "metadata": {},
   "outputs": [],
   "source": [
    "# Create data frame for Gross_revenue ( need to connect imdb_id to to movies name ,, Suyin already did it as Complete Df.\n",
    "# gr_df = revenue_df [['total_gross' , 'inflation_adjusted_gross']]"
   ]
  },
  {
   "cell_type": "code",
   "execution_count": null,
   "id": "024672ea",
   "metadata": {},
   "outputs": [],
   "source": [
    "# The dataframe for revenue doesnt have a common IMDB ID,\n",
    "# Dataframe for IMDB_movies is more,, we need less colummns after we merge and align the imdb_id to movie lense and revenue,, which Suyin already did in her code. "
   ]
  }
 ],
 "metadata": {
  "kernelspec": {
   "display_name": "PythonData",
   "language": "python",
   "name": "pythondata"
  },
  "language_info": {
   "codemirror_mode": {
    "name": "ipython",
    "version": 3
   },
   "file_extension": ".py",
   "mimetype": "text/x-python",
   "name": "python",
   "nbconvert_exporter": "python",
   "pygments_lexer": "ipython3",
   "version": "3.8.8"
  }
 },
 "nbformat": 4,
 "nbformat_minor": 5
}
